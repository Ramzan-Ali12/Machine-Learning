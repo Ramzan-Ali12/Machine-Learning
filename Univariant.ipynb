{
 "cells": [
  {
   "cell_type": "code",
   "execution_count": 1,
   "id": "aed15d45-2145-43ed-b3f4-54905be1675f",
   "metadata": {},
   "outputs": [],
   "source": [
    "import pandas as pd\n",
    "import seaborn as sns"
   ]
  },
  {
   "cell_type": "code",
   "execution_count": 6,
   "id": "176b85bb-34c5-4463-b201-5e76559cb870",
   "metadata": {},
   "outputs": [],
   "source": [
    "df = pd.read_csv('laptop_pricing.csv')"
   ]
  },
  {
   "cell_type": "code",
   "execution_count": 14,
   "id": "2945a197-a7fe-4693-b445-59beda3f015f",
   "metadata": {},
   "outputs": [
    {
     "data": {
      "text/html": [
       "<div>\n",
       "<style scoped>\n",
       "    .dataframe tbody tr th:only-of-type {\n",
       "        vertical-align: middle;\n",
       "    }\n",
       "\n",
       "    .dataframe tbody tr th {\n",
       "        vertical-align: top;\n",
       "    }\n",
       "\n",
       "    .dataframe thead th {\n",
       "        text-align: right;\n",
       "    }\n",
       "</style>\n",
       "<table border=\"1\" class=\"dataframe\">\n",
       "  <thead>\n",
       "    <tr style=\"text-align: right;\">\n",
       "      <th></th>\n",
       "      <th>Manufacturer</th>\n",
       "      <th>IntelCore(i-)</th>\n",
       "      <th>IntelCoreGen</th>\n",
       "      <th>processing speed(GHz)</th>\n",
       "      <th>Ram(gb)</th>\n",
       "      <th>HDD(gb)</th>\n",
       "      <th>SSD(gb)</th>\n",
       "      <th>Graphics(gb)</th>\n",
       "      <th>ScreenSize(inch)</th>\n",
       "      <th>Price</th>\n",
       "    </tr>\n",
       "  </thead>\n",
       "  <tbody>\n",
       "    <tr>\n",
       "      <th>20</th>\n",
       "      <td>ASUS</td>\n",
       "      <td>5</td>\n",
       "      <td>9</td>\n",
       "      <td>2.1</td>\n",
       "      <td>8</td>\n",
       "      <td>1000</td>\n",
       "      <td>512</td>\n",
       "      <td>4</td>\n",
       "      <td>15.6</td>\n",
       "      <td>97990</td>\n",
       "    </tr>\n",
       "    <tr>\n",
       "      <th>15</th>\n",
       "      <td>HP</td>\n",
       "      <td>3</td>\n",
       "      <td>7</td>\n",
       "      <td>2.3</td>\n",
       "      <td>8</td>\n",
       "      <td>1000</td>\n",
       "      <td>0</td>\n",
       "      <td>0</td>\n",
       "      <td>15.6</td>\n",
       "      <td>40338</td>\n",
       "    </tr>\n",
       "    <tr>\n",
       "      <th>6</th>\n",
       "      <td>Lenovo</td>\n",
       "      <td>3</td>\n",
       "      <td>7</td>\n",
       "      <td>2.3</td>\n",
       "      <td>4</td>\n",
       "      <td>1000</td>\n",
       "      <td>0</td>\n",
       "      <td>0</td>\n",
       "      <td>15.6</td>\n",
       "      <td>38290</td>\n",
       "    </tr>\n",
       "    <tr>\n",
       "      <th>11</th>\n",
       "      <td>Lenovo</td>\n",
       "      <td>2</td>\n",
       "      <td>5</td>\n",
       "      <td>2.3</td>\n",
       "      <td>4</td>\n",
       "      <td>1000</td>\n",
       "      <td>0</td>\n",
       "      <td>0</td>\n",
       "      <td>15.6</td>\n",
       "      <td>34890</td>\n",
       "    </tr>\n",
       "    <tr>\n",
       "      <th>16</th>\n",
       "      <td>ASUS</td>\n",
       "      <td>5</td>\n",
       "      <td>8</td>\n",
       "      <td>1.6</td>\n",
       "      <td>8</td>\n",
       "      <td>512</td>\n",
       "      <td>512</td>\n",
       "      <td>0</td>\n",
       "      <td>15.6</td>\n",
       "      <td>56990</td>\n",
       "    </tr>\n",
       "  </tbody>\n",
       "</table>\n",
       "</div>"
      ],
      "text/plain": [
       "   Manufacturer  IntelCore(i-)  IntelCoreGen  processing speed(GHz)  Ram(gb)  \\\n",
       "20         ASUS              5             9                    2.1        8   \n",
       "15           HP              3             7                    2.3        8   \n",
       "6        Lenovo              3             7                    2.3        4   \n",
       "11       Lenovo              2             5                    2.3        4   \n",
       "16         ASUS              5             8                    1.6        8   \n",
       "\n",
       "    HDD(gb)  SSD(gb)  Graphics(gb)  ScreenSize(inch)  Price  \n",
       "20     1000      512             4              15.6  97990  \n",
       "15     1000        0             0              15.6  40338  \n",
       "6      1000        0             0              15.6  38290  \n",
       "11     1000        0             0              15.6  34890  \n",
       "16      512      512             0              15.6  56990  "
      ]
     },
     "execution_count": 14,
     "metadata": {},
     "output_type": "execute_result"
    }
   ],
   "source": [
    "df.sample(5)"
   ]
  },
  {
   "cell_type": "markdown",
   "id": "8fdc7601-8666-4b76-ac41-2563ea61a11f",
   "metadata": {},
   "source": [
    "# 1. Categorical Data"
   ]
  },
  {
   "cell_type": "markdown",
   "id": "d2bfe01a-7a14-41bc-aa6e-2f839db80648",
   "metadata": {},
   "source": [
    "## a.CountPlot"
   ]
  },
  {
   "cell_type": "code",
   "execution_count": 21,
   "id": "cd44c614-2cab-415a-80b3-0f55d13f51d6",
   "metadata": {},
   "outputs": [
    {
     "data": {
      "text/plain": [
       "<AxesSubplot:>"
      ]
     },
     "execution_count": 21,
     "metadata": {},
     "output_type": "execute_result"
    },
    {
     "data": {
      "image/png": "[encoded data removed]",
      "text/plain": [
       "<Figure size 432x288 with 1 Axes>"
      ]
     },
     "metadata": {
      "needs_background": "light"
     },
     "output_type": "display_data"
    }
   ],
   "source": [
    "df['IntelCore(i-)'].value_counts().plot(kind='bar')"
   ]
  },
  {
   "cell_type": "code",
   "execution_count": 22,
   "id": "53c1fa26-168b-4bfe-bf2e-10df78f24dc8",
   "metadata": {},
   "outputs": [
    {
     "data": {
      "text/plain": [
       "<AxesSubplot:>"
      ]
     },
     "execution_count": 22,
     "metadata": {},
     "output_type": "execute_result"
    },
    {
     "data": {
      "image/png": "[encoded data removed]",
      "text/plain": [
       "<Figure size 432x288 with 1 Axes>"
      ]
     },
     "metadata": {
      "needs_background": "light"
     },
     "output_type": "display_data"
    }
   ],
   "source": [
    "df['Ram(gb)'].value_counts().plot(kind='bar')"
   ]
  },
  {
   "cell_type": "code",
   "execution_count": 23,
   "id": "2296c15c-bb02-434a-87f4-a77fa6b15c1d",
   "metadata": {},
   "outputs": [
    {
     "data": {
      "text/plain": [
       "<AxesSubplot:>"
      ]
     },
     "execution_count": 23,
     "metadata": {},
     "output_type": "execute_result"
    },
    {
     "data": {
      "image/png": "[encoded data removed]",
      "text/plain": [
       "<Figure size 432x288 with 1 Axes>"
      ]
     },
     "metadata": {
      "needs_background": "light"
     },
     "output_type": "display_data"
    }
   ],
   "source": [
    "df['Graphics(gb)'].value_counts().plot(kind='bar')"
   ]
  },
  {
   "cell_type": "markdown",
   "id": "e7bcb727-0c59-4646-b914-3396aba036fb",
   "metadata": {},
   "source": [
    "# b.Pie Chart"
   ]
  },
  {
   "cell_type": "code",
   "execution_count": 27,
   "id": "3a36cf80-6c29-40d1-9663-ea1ea0acc880",
   "metadata": {},
   "outputs": [
    {
     "data": {
      "text/plain": [
       "<AxesSubplot:ylabel='Manufacturer'>"
      ]
     },
     "execution_count": 27,
     "metadata": {},
     "output_type": "execute_result"
    },
    {
     "data": {
      "image/png": "[encoded data removed]",
      "text/plain": [
       "<Figure size 432x288 with 1 Axes>"
      ]
     },
     "metadata": {},
     "output_type": "display_data"
    }
   ],
   "source": [
    "df['Manufacturer'].value_counts().plot(kind='pie',autopct='%.2f')"
   ]
  },
  {
   "cell_type": "markdown",
   "id": "5cbd0888-0760-4017-bfa1-580138c1a572",
   "metadata": {},
   "source": [
    "# Numerical Data"
   ]
  },
  {
   "cell_type": "markdown",
   "id": "4074497b-172d-4801-896e-831a2b53ed84",
   "metadata": {},
   "source": [
    "# a.Histogram"
   ]
  },
  {
   "cell_type": "code",
   "execution_count": 34,
   "id": "e9cc97b3-2938-47d3-a738-4dc91a473aae",
   "metadata": {},
   "outputs": [
    {
     "data": {
      "text/plain": [
       "(array([19.,  5.,  4.,  0.,  0.,  0.,  0.,  0.,  0.,  1.]),\n",
       " array([ 26403. ,  64061.7, 101720.4, 139379.1, 177037.8, 214696.5,\n",
       "        252355.2, 290013.9, 327672.6, 365331.3, 402990. ]),\n",
       " <BarContainer object of 10 artists>)"
      ]
     },
     "execution_count": 34,
     "metadata": {},
     "output_type": "execute_result"
    },
    {
     "data": {
      "image/png": "[encoded data removed]",
      "text/plain": [
       "<Figure size 432x288 with 1 Axes>"
      ]
     },
     "metadata": {
      "needs_background": "light"
     },
     "output_type": "display_data"
    }
   ],
   "source": [
    "import matplotlib.pyplot as plt\n",
    "plt.hist(df['Price'],bins=10)"
   ]
  },
  {
   "cell_type": "markdown",
   "id": "93e42e1e-9e9e-4954-8793-8721ca62e40c",
   "metadata": {},
   "source": [
    "# b.DistPlot"
   ]
  },
  {
   "cell_type": "code",
   "execution_count": 37,
   "id": "b24756b2-721d-4450-8d2d-60167099e4a2",
   "metadata": {},
   "outputs": [
    {
     "name": "stderr",
     "output_type": "stream",
     "text": [
      "c:\\users\\hp\\appdata\\local\\programs\\python\\python39\\lib\\site-packages\\seaborn\\distributions.py:2619: FutureWarning: `distplot` is a deprecated function and will be removed in a future version. Please adapt your code to use either `displot` (a figure-level function with similar flexibility) or `histplot` (an axes-level function for histograms).\n",
      "  warnings.warn(msg, FutureWarning)\n"
     ]
    },
    {
     "data": {
      "text/plain": [
       "<AxesSubplot:xlabel='ScreenSize(inch)', ylabel='Density'>"
      ]
     },
     "execution_count": 37,
     "metadata": {},
     "output_type": "execute_result"
    },
    {
     "data": {
      "image/png": "[encoded data removed]",
      "text/plain": [
       "<Figure size 432x288 with 1 Axes>"
      ]
     },
     "metadata": {
      "needs_background": "light"
     },
     "output_type": "display_data"
    }
   ],
   "source": [
    "sns.distplot(df['ScreenSize(inch)'])"
   ]
  },
  {
   "cell_type": "code",
   "execution_count": 40,
   "id": "7c8d2e91-14ba-4e3b-83bf-119256b8711f",
   "metadata": {},
   "outputs": [
    {
     "name": "stderr",
     "output_type": "stream",
     "text": [
      "c:\\users\\hp\\appdata\\local\\programs\\python\\python39\\lib\\site-packages\\seaborn\\_decorators.py:36: FutureWarning: Pass the following variable as a keyword arg: x. From version 0.12, the only valid positional argument will be `data`, and passing other arguments without an explicit keyword will result in an error or misinterpretation.\n",
      "  warnings.warn(\n"
     ]
    },
    {
     "data": {
      "text/plain": [
       "<AxesSubplot:xlabel='processing speed(GHz)'>"
      ]
     },
     "execution_count": 40,
     "metadata": {},
     "output_type": "execute_result"
    },
    {
     "data": {
      "image/png": "[encoded data removed]",
      "text/plain": [
       "<Figure size 432x288 with 1 Axes>"
      ]
     },
     "metadata": {
      "needs_background": "light"
     },
     "output_type": "display_data"
    }
   ],
   "source": [
    "sns.boxplot(df['processing speed(GHz)'])"
   ]
  },
  {
   "cell_type": "code",
   "execution_count": null,
   "id": "90cee84b-5739-4217-9f77-7ea98d5e9529",
   "metadata": {},
   "outputs": [],
   "source": []
  }
 ],
 "metadata": {
  "kernelspec": {
   "display_name": "Python 3 (ipykernel)",
   "language": "python",
   "name": "python3"
  },
  "language_info": {
   "codemirror_mode": {
    "name": "ipython",
    "version": 3
   },
   "file_extension": ".py",
   "mimetype": "text/x-python",
   "name": "python",
   "nbconvert_exporter": "python",
   "pygments_lexer": "ipython3",
   "version": "3.9.4"
  }
 },
 "nbformat": 4,
 "nbformat_minor": 5
}
