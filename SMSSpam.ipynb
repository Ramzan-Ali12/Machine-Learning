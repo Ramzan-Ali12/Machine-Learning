{
 "cells": [
  {
   "cell_type": "code",
   "execution_count": 1,
   "id": "a9e0dc58-550e-4657-a584-f31514e09179",
   "metadata": {},
   "outputs": [],
   "source": [
    "import pandas as pd"
   ]
  },
  {
   "cell_type": "markdown",
   "id": "697d472a-b67c-47a0-9215-3623bc6489b8",
   "metadata": {},
   "source": [
    "1 Understanding Our Dataset"
   ]
  },
  {
   "cell_type": "code",
   "execution_count": 33,
   "id": "f4688d31-30b7-4707-92c6-8ba8a1e1b425",
   "metadata": {},
   "outputs": [],
   "source": [
    "f = open('E:\\PYTHONCodes\\SMSSpamCollection')"
   ]
  },
  {
   "cell_type": "code",
   "execution_count": 34,
   "id": "c46924fb-9d5f-4100-bd9b-ed08af5d758d",
   "metadata": {},
   "outputs": [
    {
     "data": {
      "text/plain": [
       "<_io.TextIOWrapper name='E:\\\\PYTHONCodes\\\\SMSSpamCollection' mode='r' encoding='cp1252'>"
      ]
     },
     "execution_count": 34,
     "metadata": {},
     "output_type": "execute_result"
    }
   ],
   "source": [
    "f"
   ]
  },
  {
   "cell_type": "code",
   "execution_count": 31,
   "id": "88abebf6-2d0d-4d91-8f63-2a8ebeb7118a",
   "metadata": {},
   "outputs": [
    {
     "data": {
      "text/html": [
       "<div>\n",
       "<style scoped>\n",
       "    .dataframe tbody tr th:only-of-type {\n",
       "        vertical-align: middle;\n",
       "    }\n",
       "\n",
       "    .dataframe tbody tr th {\n",
       "        vertical-align: top;\n",
       "    }\n",
       "\n",
       "    .dataframe thead th {\n",
       "        text-align: right;\n",
       "    }\n",
       "</style>\n",
       "<table border=\"1\" class=\"dataframe\">\n",
       "  <thead>\n",
       "    <tr style=\"text-align: right;\">\n",
       "      <th></th>\n",
       "      <th>label</th>\n",
       "      <th>email</th>\n",
       "    </tr>\n",
       "  </thead>\n",
       "  <tbody>\n",
       "    <tr>\n",
       "      <th>0</th>\n",
       "      <td>ham</td>\n",
       "      <td>Ok lar... Joking wif u oni...</td>\n",
       "    </tr>\n",
       "    <tr>\n",
       "      <th>1</th>\n",
       "      <td>spam</td>\n",
       "      <td>Free entry in 2 a wkly comp to win FA Cup fina...</td>\n",
       "    </tr>\n",
       "    <tr>\n",
       "      <th>2</th>\n",
       "      <td>ham</td>\n",
       "      <td>U dun say so early hor... U c already then say...</td>\n",
       "    </tr>\n",
       "    <tr>\n",
       "      <th>3</th>\n",
       "      <td>ham</td>\n",
       "      <td>Nah I don't think he goes to usf, he lives aro...</td>\n",
       "    </tr>\n",
       "    <tr>\n",
       "      <th>4</th>\n",
       "      <td>spam</td>\n",
       "      <td>FreeMsg Hey there darling it's been 3 week's n...</td>\n",
       "    </tr>\n",
       "  </tbody>\n",
       "</table>\n",
       "</div>"
      ],
      "text/plain": [
       "  label                                              email\n",
       "0   ham                      Ok lar... Joking wif u oni...\n",
       "1  spam  Free entry in 2 a wkly comp to win FA Cup fina...\n",
       "2   ham  U dun say so early hor... U c already then say...\n",
       "3   ham  Nah I don't think he goes to usf, he lives aro...\n",
       "4  spam  FreeMsg Hey there darling it's been 3 week's n..."
      ]
     },
     "execution_count": 31,
     "metadata": {},
     "output_type": "execute_result"
    }
   ],
   "source": [
    "df = pd.read_csv('E:\\PYTHONCodes\\SMSSpamCollection',sep=\"\\t\")\n",
    "df.columns=[\"label\",\"email\"]\n",
    "# Output printing out first 5 rows\n",
    "df.head()"
   ]
  },
  {
   "cell_type": "markdown",
   "id": "638632f4-e722-474a-87aa-d8a5a54cc6ab",
   "metadata": {},
   "source": [
    "Step 1.2: Data Preprocessing"
   ]
  },
  {
   "cell_type": "markdown",
   "id": "9f933f99-be0f-4949-a2dc-cd2f6c9df1a0",
   "metadata": {},
   "source": [
    "Convert the values in the 'label' colum to numerical values using map method as follows: {'ham':0, 'spam':1} This maps the 'ham' value to 0 and the 'spam' value to 1.\n",
    "Also, to get an idea of the size of the dataset we are dealing with, print out number of rows and columns using 'shape'."
   ]
  },
  {
   "cell_type": "markdown",
   "id": "ad8140e3-5385-449b-8d62-06cb350f4c11",
   "metadata": {},
   "source": [
    "# Method1"
   ]
  },
  {
   "cell_type": "code",
   "execution_count": null,
   "id": "e1c7ff7b-e835-4144-965e-4ba18c6bc5ee",
   "metadata": {},
   "outputs": [],
   "source": [
    "df['label']=df['label'].apply(lambda x: 0 if x==\"ham\" else 1)"
   ]
  },
  {
   "cell_type": "code",
   "execution_count": null,
   "id": "60131078-4ae9-4386-bf07-1b83c703af34",
   "metadata": {},
   "outputs": [],
   "source": [
    "df"
   ]
  },
  {
   "cell_type": "markdown",
   "id": "084986ce-470b-4fe0-a2d0-cd9f60b420ba",
   "metadata": {},
   "source": [
    "# Method2"
   ]
  },
  {
   "cell_type": "code",
   "execution_count": null,
   "id": "1c90036c-8d9f-447a-a051-fb13f4916d75",
   "metadata": {},
   "outputs": [],
   "source": [
    "df['label'] = df.label.map({'ham':0, 'spam':1})\n",
    "#print(df.shape)\n",
    "df.head()"
   ]
  },
  {
   "cell_type": "markdown",
   "id": "3f54e339-a7c8-4fbc-8c53-5dd2737e59af",
   "metadata": {},
   "source": [
    "Step 2.1: Bag of words\n"
   ]
  },
  {
   "cell_type": "markdown",
   "id": "d9b23fce-176c-4389-b7c5-dd60a20e4b82",
   "metadata": {},
   "source": [
    "Step 2.2: Implementing Bag of Words from scratch\n"
   ]
  },
  {
   "cell_type": "code",
   "execution_count": 66,
   "id": "817f68a8-6403-4f75-9abe-b40f57f0d29f",
   "metadata": {},
   "outputs": [
    {
     "name": "stdout",
     "output_type": "stream",
     "text": [
      "['hello,', 'how', 'are', 'you!', 'win', 'money,', 'win', 'from', 'home.', 'call', 'me', 'now.', 'hello,', 'call', 'hello', 'you', 'tomorrow?']\n"
     ]
    }
   ],
   "source": [
    "documents = ['Hello, how are you!',\n",
    "             'Win money, win from home.',\n",
    "             'Call me now.',\n",
    "             'Hello, Call hello you tomorrow?']\n",
    "\n",
    "lower_case_documents = []\n",
    "for i in documents:\n",
    "    lower_case_documents.extend(i.lower().split())\n",
    "print(lower_case_documents)"
   ]
  },
  {
   "cell_type": "markdown",
   "id": "501afbed-8f3e-4daa-8756-771ea41c4434",
   "metadata": {},
   "source": [
    "Step 2: Removing all punctuations\n",
    "\n"
   ]
  },
  {
   "cell_type": "code",
   "execution_count": 67,
   "id": "db7a6719-6438-4fb5-b5ad-8c4bb4bbd9e6",
   "metadata": {},
   "outputs": [
    {
     "name": "stdout",
     "output_type": "stream",
     "text": [
      "['hello', 'how', 'are', 'you', 'win', 'money', 'win', 'from', 'home', 'call', 'me', 'now', 'hello', 'call', 'hello', 'you', 'tomorrow']\n"
     ]
    }
   ],
   "source": [
    "sans_punctuation_documents = []\n",
    "import string\n",
    "\n",
    "for i in lower_case_documents:\n",
    "    sans_punctuation_documents.append(i.translate(str.maketrans('', '', string.punctuation)))\n",
    "print(sans_punctuation_documents)"
   ]
  },
  {
   "cell_type": "markdown",
   "id": "e8af51eb-2683-4888-b3de-319f2e4c0d4f",
   "metadata": {},
   "source": [
    "Step 3: Tokenization\n",
    "\n"
   ]
  },
  {
   "cell_type": "code",
   "execution_count": 8,
   "id": "4a585640-59a1-4906-aa66-33796be21012",
   "metadata": {},
   "outputs": [
    {
     "name": "stdout",
     "output_type": "stream",
     "text": [
      "[['hello', 'how', 'are', 'you'], ['win', 'money', 'win', 'from', 'home'], ['call', 'me', 'now'], ['hello', 'call', 'hello', 'you', 'tomorrow']]\n"
     ]
    }
   ],
   "source": [
    "preprocessed_documents = []\n",
    "for i in sans_punctuation_documents:\n",
    "    preprocessed_documents.append(i.split(' '))\n",
    "print(preprocessed_documents)"
   ]
  },
  {
   "cell_type": "markdown",
   "id": "c9f9e3ba-37c9-40ec-9884-f0713c36b349",
   "metadata": {},
   "source": [
    "Step 4: Count frequencies\n",
    "\n"
   ]
  },
  {
   "cell_type": "code",
   "execution_count": 70,
   "id": "e3a4bf64-525c-468a-92e0-7cb8f7d84d24",
   "metadata": {},
   "outputs": [
    {
     "data": {
      "text/plain": [
       "Counter({'hello': 3,\n",
       "         'how': 1,\n",
       "         'are': 1,\n",
       "         'you': 2,\n",
       "         'win': 2,\n",
       "         'money': 1,\n",
       "         'from': 1,\n",
       "         'home': 1,\n",
       "         'call': 2,\n",
       "         'me': 1,\n",
       "         'now': 1,\n",
       "         'tomorrow': 1})"
      ]
     },
     "execution_count": 70,
     "metadata": {},
     "output_type": "execute_result"
    }
   ],
   "source": [
    "frequency_list = []\n",
    "import pprint\n",
    "from collections import Counter\n",
    "\n",
    "Counter(sans_punctuation_documents)"
   ]
  },
  {
   "cell_type": "markdown",
   "id": "1ee3d534-8750-475c-934e-ff74f99f1d6a",
   "metadata": {},
   "source": [
    "Step 2.3: Implementing Bag of Words in scikit-learn\n"
   ]
  },
  {
   "cell_type": "code",
   "execution_count": 35,
   "id": "b48abc1f-14ac-4c7c-9bd6-cc016a17ef66",
   "metadata": {},
   "outputs": [],
   "source": [
    "documents = ['Hello, how are you!',\n",
    "                'Win money, win from home.',\n",
    "                'Call me now.',\n",
    "                'Hello, Call hello you tomorrow?',\n",
    "            \"tum kon ho\"]"
   ]
  },
  {
   "cell_type": "code",
   "execution_count": 36,
   "id": "007bfe86-9550-4a4b-b3e5-1b37bb8cc9a1",
   "metadata": {},
   "outputs": [],
   "source": [
    "from sklearn.feature_extraction.text import CountVectorizer\n",
    "count_vector = CountVectorizer()"
   ]
  },
  {
   "cell_type": "code",
   "execution_count": 37,
   "id": "1dba526f-9fd0-487a-b92c-fb66f653c638",
   "metadata": {},
   "outputs": [
    {
     "data": {
      "text/plain": [
       "CountVectorizer()"
      ]
     },
     "execution_count": 37,
     "metadata": {},
     "output_type": "execute_result"
    }
   ],
   "source": [
    "count_vector"
   ]
  },
  {
   "cell_type": "code",
   "execution_count": 27,
   "id": "35800828-8987-4d2d-9863-bb6b76d4167e",
   "metadata": {},
   "outputs": [
    {
     "data": {
      "text/plain": [
       "CountVectorizer()"
      ]
     },
     "execution_count": 27,
     "metadata": {},
     "output_type": "execute_result"
    }
   ],
   "source": [
    "count_vector.fit(documents)"
   ]
  },
  {
   "cell_type": "code",
   "execution_count": 28,
   "id": "d3db1049-7833-4b8d-a576-b061a0c3193e",
   "metadata": {},
   "outputs": [
    {
     "name": "stderr",
     "output_type": "stream",
     "text": [
      "c:\\users\\hp\\appdata\\local\\programs\\python\\python39\\lib\\site-packages\\sklearn\\utils\\deprecation.py:87: FutureWarning: Function get_feature_names is deprecated; get_feature_names is deprecated in 1.0 and will be removed in 1.2. Please use get_feature_names_out instead.\n",
      "  warnings.warn(msg, category=FutureWarning)\n"
     ]
    },
    {
     "data": {
      "text/plain": [
       "['are',\n",
       " 'call',\n",
       " 'from',\n",
       " 'hello',\n",
       " 'ho',\n",
       " 'home',\n",
       " 'how',\n",
       " 'kon',\n",
       " 'me',\n",
       " 'money',\n",
       " 'now',\n",
       " 'tomorrow',\n",
       " 'tum',\n",
       " 'win',\n",
       " 'you']"
      ]
     },
     "execution_count": 28,
     "metadata": {},
     "output_type": "execute_result"
    }
   ],
   "source": [
    "count_vector.get_feature_names()"
   ]
  },
  {
   "cell_type": "code",
   "execution_count": 30,
   "id": "4d053558-0df2-4f67-a9fb-db152fcca1ec",
   "metadata": {},
   "outputs": [
    {
     "data": {
      "text/plain": [
       "array([[1, 0, 0, 1, 0, 0, 1, 0, 0, 0, 0, 0, 0, 0, 1],\n",
       "       [0, 0, 1, 0, 0, 1, 0, 0, 0, 1, 0, 0, 0, 2, 0],\n",
       "       [0, 1, 0, 0, 0, 0, 0, 0, 1, 0, 1, 0, 0, 0, 0],\n",
       "       [0, 1, 0, 2, 0, 0, 0, 0, 0, 0, 0, 1, 0, 0, 1],\n",
       "       [0, 0, 0, 0, 1, 0, 0, 1, 0, 0, 0, 0, 1, 0, 0]], dtype=int64)"
      ]
     },
     "execution_count": 30,
     "metadata": {},
     "output_type": "execute_result"
    }
   ],
   "source": [
    "doc_array = count_vector.transform(documents).toarray()\n",
    "doc_array"
   ]
  },
  {
   "cell_type": "code",
   "execution_count": 31,
   "id": "c0e92f50-873e-4426-97f8-c776238999d9",
   "metadata": {},
   "outputs": [
    {
     "data": {
      "text/html": [
       "<div>\n",
       "<style scoped>\n",
       "    .dataframe tbody tr th:only-of-type {\n",
       "        vertical-align: middle;\n",
       "    }\n",
       "\n",
       "    .dataframe tbody tr th {\n",
       "        vertical-align: top;\n",
       "    }\n",
       "\n",
       "    .dataframe thead th {\n",
       "        text-align: right;\n",
       "    }\n",
       "</style>\n",
       "<table border=\"1\" class=\"dataframe\">\n",
       "  <thead>\n",
       "    <tr style=\"text-align: right;\">\n",
       "      <th></th>\n",
       "      <th>are</th>\n",
       "      <th>call</th>\n",
       "      <th>from</th>\n",
       "      <th>hello</th>\n",
       "      <th>ho</th>\n",
       "      <th>home</th>\n",
       "      <th>how</th>\n",
       "      <th>kon</th>\n",
       "      <th>me</th>\n",
       "      <th>money</th>\n",
       "      <th>now</th>\n",
       "      <th>tomorrow</th>\n",
       "      <th>tum</th>\n",
       "      <th>win</th>\n",
       "      <th>you</th>\n",
       "    </tr>\n",
       "  </thead>\n",
       "  <tbody>\n",
       "    <tr>\n",
       "      <th>0</th>\n",
       "      <td>1</td>\n",
       "      <td>0</td>\n",
       "      <td>0</td>\n",
       "      <td>1</td>\n",
       "      <td>0</td>\n",
       "      <td>0</td>\n",
       "      <td>1</td>\n",
       "      <td>0</td>\n",
       "      <td>0</td>\n",
       "      <td>0</td>\n",
       "      <td>0</td>\n",
       "      <td>0</td>\n",
       "      <td>0</td>\n",
       "      <td>0</td>\n",
       "      <td>1</td>\n",
       "    </tr>\n",
       "    <tr>\n",
       "      <th>1</th>\n",
       "      <td>0</td>\n",
       "      <td>0</td>\n",
       "      <td>1</td>\n",
       "      <td>0</td>\n",
       "      <td>0</td>\n",
       "      <td>1</td>\n",
       "      <td>0</td>\n",
       "      <td>0</td>\n",
       "      <td>0</td>\n",
       "      <td>1</td>\n",
       "      <td>0</td>\n",
       "      <td>0</td>\n",
       "      <td>0</td>\n",
       "      <td>2</td>\n",
       "      <td>0</td>\n",
       "    </tr>\n",
       "    <tr>\n",
       "      <th>2</th>\n",
       "      <td>0</td>\n",
       "      <td>1</td>\n",
       "      <td>0</td>\n",
       "      <td>0</td>\n",
       "      <td>0</td>\n",
       "      <td>0</td>\n",
       "      <td>0</td>\n",
       "      <td>0</td>\n",
       "      <td>1</td>\n",
       "      <td>0</td>\n",
       "      <td>1</td>\n",
       "      <td>0</td>\n",
       "      <td>0</td>\n",
       "      <td>0</td>\n",
       "      <td>0</td>\n",
       "    </tr>\n",
       "    <tr>\n",
       "      <th>3</th>\n",
       "      <td>0</td>\n",
       "      <td>1</td>\n",
       "      <td>0</td>\n",
       "      <td>2</td>\n",
       "      <td>0</td>\n",
       "      <td>0</td>\n",
       "      <td>0</td>\n",
       "      <td>0</td>\n",
       "      <td>0</td>\n",
       "      <td>0</td>\n",
       "      <td>0</td>\n",
       "      <td>1</td>\n",
       "      <td>0</td>\n",
       "      <td>0</td>\n",
       "      <td>1</td>\n",
       "    </tr>\n",
       "    <tr>\n",
       "      <th>4</th>\n",
       "      <td>0</td>\n",
       "      <td>0</td>\n",
       "      <td>0</td>\n",
       "      <td>0</td>\n",
       "      <td>1</td>\n",
       "      <td>0</td>\n",
       "      <td>0</td>\n",
       "      <td>1</td>\n",
       "      <td>0</td>\n",
       "      <td>0</td>\n",
       "      <td>0</td>\n",
       "      <td>0</td>\n",
       "      <td>1</td>\n",
       "      <td>0</td>\n",
       "      <td>0</td>\n",
       "    </tr>\n",
       "  </tbody>\n",
       "</table>\n",
       "</div>"
      ],
      "text/plain": [
       "   are  call  from  hello  ho  home  how  kon  me  money  now  tomorrow  tum  \\\n",
       "0    1     0     0      1   0     0    1    0   0      0    0         0    0   \n",
       "1    0     0     1      0   0     1    0    0   0      1    0         0    0   \n",
       "2    0     1     0      0   0     0    0    0   1      0    1         0    0   \n",
       "3    0     1     0      2   0     0    0    0   0      0    0         1    0   \n",
       "4    0     0     0      0   1     0    0    1   0      0    0         0    1   \n",
       "\n",
       "   win  you  \n",
       "0    0    1  \n",
       "1    2    0  \n",
       "2    0    0  \n",
       "3    0    1  \n",
       "4    0    0  "
      ]
     },
     "execution_count": 31,
     "metadata": {},
     "output_type": "execute_result"
    }
   ],
   "source": [
    "frequency_matrix = pd.DataFrame(doc_array, \n",
    "                                columns = count_vector.get_feature_names())\n",
    "frequency_matrix"
   ]
  },
  {
   "cell_type": "markdown",
   "id": "37853564-9531-4ebe-969f-d23b5fffc3c7",
   "metadata": {},
   "source": [
    "Step 3.1: Training and testing sets\n"
   ]
  },
  {
   "cell_type": "code",
   "execution_count": 43,
   "id": "8699768e-8630-49aa-b676-bc63226a1198",
   "metadata": {},
   "outputs": [],
   "source": [
    "import sklearn\n",
    "from sklearn.model_selection import train_test_split"
   ]
  },
  {
   "cell_type": "code",
   "execution_count": 44,
   "id": "fb7fd446-6068-4be0-92a2-52fcec3bc4ce",
   "metadata": {},
   "outputs": [
    {
     "name": "stdout",
     "output_type": "stream",
     "text": [
      "Number of rows in the total set: {} 5571\n",
      "Number of rows in the training set: {} 4178\n",
      "Number of rows in the test set: {} 1393\n"
     ]
    }
   ],
   "source": [
    "\n",
    "X_train, X_test, y_train, y_test = train_test_split(df['email'], \n",
    "                                                    df['label'], \n",
    "                                                    random_state=1)\n",
    "\n",
    "print('Number of rows in the total set: {}',format(df.shape[0]))\n",
    "print('Number of rows in the training set: {}',format(X_train.shape[0]))\n",
    "print('Number of rows in the test set: {}',format(X_test.shape[0]))"
   ]
  },
  {
   "cell_type": "markdown",
   "id": "bcf30756-09bc-4de6-9d57-14f7ff1139fe",
   "metadata": {},
   "source": [
    "Step 3.2: Applying Bag of Words processing to our dataset."
   ]
  },
  {
   "cell_type": "code",
   "execution_count": 45,
   "id": "0def4346-5bbf-4f2f-9d25-d4c17f94e709",
   "metadata": {},
   "outputs": [],
   "source": [
    "# Instantiate the CountVectorizer method\n",
    "count_vector = CountVectorizer()\n",
    "\n",
    "# Fit the training data and then return the matrix\n",
    "training_data = count_vector.fit_transform(X_train)\n",
    "\n",
    "# Transform testing data and return the matrix. Note we are not fitting the testing data into the CountVectorizer()\n",
    "testing_data = count_vector.transform(X_test)"
   ]
  },
  {
   "cell_type": "markdown",
   "id": "31c72e3f-367d-4e8b-ae25-70b9518533f7",
   "metadata": {},
   "source": [
    "Step 5: Naive Bayes implementation using scikit-learn\n"
   ]
  },
  {
   "cell_type": "code",
   "execution_count": 55,
   "id": "de945591-7f90-43a4-8f69-85f2c7d87838",
   "metadata": {},
   "outputs": [
    {
     "data": {
      "text/plain": [
       "LogisticRegression()"
      ]
     },
     "execution_count": 55,
     "metadata": {},
     "output_type": "execute_result"
    }
   ],
   "source": [
    "from sklearn.naive_bayes import MultinomialNB\n",
    "from sklearn.linear_model import LogisticRegression\n",
    "from sklearn.neighbors import KNeighborsClassifier\n",
    "naive_bayes = MultinomialNB()\n",
    "logr=LogisticRegression()\n",
    "knn = KNeighborsClassifier()\n",
    "knn.fit(training_data, y_train)\n",
    "naive_bayes.fit(training_data, y_train)\n",
    "logr.fit(training_data, y_train)"
   ]
  },
  {
   "cell_type": "code",
   "execution_count": 56,
   "id": "d7da8862-5b70-4505-8898-79800b4a24b5",
   "metadata": {},
   "outputs": [],
   "source": [
    "predictions = naive_bayes.predict(testing_data)"
   ]
  },
  {
   "cell_type": "markdown",
   "id": "d1203e92-df3a-441f-b691-af15340c1426",
   "metadata": {},
   "source": [
    "Step 6: Evaluating our model\n"
   ]
  },
  {
   "cell_type": "code",
   "execution_count": 57,
   "id": "490c3620-d8c3-42a9-8a0f-c4a2be5e05b6",
   "metadata": {},
   "outputs": [
    {
     "name": "stdout",
     "output_type": "stream",
     "text": [
      "Accuracy score:[True Positives/(True Positives + False Positives)]  0.9834888729361091\n",
      "Precision score:[True Positives/(True Positives + False Negatives)]   0.9555555555555556\n",
      "Recall score:  0.9197860962566845\n",
      "F1 score:  0.9373297002724795\n"
     ]
    }
   ],
   "source": [
    "from sklearn.metrics import accuracy_score, precision_score, recall_score, f1_score\n",
    "print('Accuracy score:[True Positives/(True Positives + False Positives)] ', format(accuracy_score(y_test, predictions)))\n",
    "print('Precision score:[True Positives/(True Positives + False Negatives)]  ', format(precision_score(y_test, predictions)))\n",
    "print('Recall score: ', format(recall_score(y_test, predictions)))\n",
    "print('F1 score: ', format(f1_score(y_test, predictions)))"
   ]
  },
  {
   "cell_type": "code",
   "execution_count": 58,
   "id": "1c72c77f-24a7-4c56-a5bc-64a8042b2744",
   "metadata": {},
   "outputs": [],
   "source": [
    "predictions = logr.predict(testing_data)"
   ]
  },
  {
   "cell_type": "code",
   "execution_count": 59,
   "id": "b282c0ce-ab0d-4ff5-b5d6-d40574a660c8",
   "metadata": {},
   "outputs": [
    {
     "name": "stdout",
     "output_type": "stream",
     "text": [
      "Accuracy score:[True Positives/(True Positives + False Positives)]  0.9827709978463748\n",
      "Precision score:[True Positives/(True Positives + False Negatives)]   0.9766081871345029\n",
      "Recall score:  0.893048128342246\n",
      "F1 score:  0.9329608938547486\n"
     ]
    }
   ],
   "source": [
    "from sklearn.metrics import accuracy_score, precision_score, recall_score, f1_score\n",
    "print('Accuracy score:[True Positives/(True Positives + False Positives)] ', format(accuracy_score(y_test, predictions)))\n",
    "print('Precision score:[True Positives/(True Positives + False Negatives)]  ', format(precision_score(y_test, predictions)))\n",
    "print('Recall score: ', format(recall_score(y_test, predictions)))\n",
    "print('F1 score: ', format(f1_score(y_test, predictions)))"
   ]
  },
  {
   "cell_type": "code",
   "execution_count": 60,
   "id": "2fd10bae-fcf3-4581-b5e3-fe7d9dd0bc57",
   "metadata": {},
   "outputs": [],
   "source": [
    "predictions = knn.predict(testing_data)"
   ]
  },
  {
   "cell_type": "code",
   "execution_count": 61,
   "id": "8f14a81e-3dba-4d04-a783-6a71e8564779",
   "metadata": {},
   "outputs": [
    {
     "name": "stdout",
     "output_type": "stream",
     "text": [
      "Accuracy score:[True Positives/(True Positives + False Positives)]  0.914572864321608\n",
      "Precision score:[True Positives/(True Positives + False Negatives)]   1.0\n",
      "Recall score:  0.36363636363636365\n",
      "F1 score:  0.5333333333333333\n"
     ]
    }
   ],
   "source": [
    "from sklearn.metrics import accuracy_score, precision_score, recall_score, f1_score\n",
    "print('Accuracy score:[True Positives/(True Positives + False Positives)] ', format(accuracy_score(y_test, predictions)))\n",
    "print('Precision score:[True Positives/(True Positives + False Negatives)]  ', format(precision_score(y_test, predictions)))\n",
    "print('Recall score: ', format(recall_score(y_test, predictions)))\n",
    "print('F1 score: ', format(f1_score(y_test, predictions)))"
   ]
  },
  {
   "cell_type": "code",
   "execution_count": null,
   "id": "46949fd7-457c-4624-ba33-c56684838f77",
   "metadata": {},
   "outputs": [],
   "source": []
  }
 ],
 "metadata": {
  "kernelspec": {
   "display_name": "Python 3 (ipykernel)",
   "language": "python",
   "name": "python3"
  },
  "language_info": {
   "codemirror_mode": {
    "name": "ipython",
    "version": 3
   },
   "file_extension": ".py",
   "mimetype": "text/x-python",
   "name": "python",
   "nbconvert_exporter": "python",
   "pygments_lexer": "ipython3",
   "version": "3.9.4"
  }
 },
 "nbformat": 4,
 "nbformat_minor": 5
}
